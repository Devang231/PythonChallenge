{
 "cells": [
  {
   "cell_type": "code",
   "execution_count": 26,
   "id": "57269330",
   "metadata": {},
   "outputs": [
    {
     "name": "stdout",
     "output_type": "stream",
     "text": [
      "Financial Analysis\n",
      "-------------------------\n",
      "Total Months: 86\n",
      "Total profits = $22564198\n",
      "Average Change: ($-8311.105882352942)\n",
      "Greatest Increase in Profits: Aug-16 ($1862002)\n",
      "Greatest Decrease in Profits: Feb-14 ($-1825558)\n"
     ]
    }
   ],
   "source": [
    "# import the os module\n",
    "import os\n",
    "\n",
    "# reading CSV files\n",
    "import csv\n",
    "\n",
    "csvpath = os.path.join(\"/Users/devangpatel/Desktop/PythonChallenge/PyBank/Resources/budget_data.csv\")\n",
    "\n",
    "Date = []\n",
    "Profit_and_Losses = []\n",
    "Change = []\n",
    "Average_Change = []\n",
    "\n",
    "with open(csvpath, newline=\"\") as csvfile:\n",
    "    csvreader = csv.reader(csvfile, delimiter = \",\")\n",
    "    csv_header = next(csvreader)\n",
    "    for column in csvreader:\n",
    "        Date.append(column[0])\n",
    "        Profit_and_Losses.append(int(column[1]))\n",
    "        \n",
    "\n",
    "Total_Months = len(Date)\n",
    "Total_Profits = sum(Profit_and_Losses)\n",
    "\n",
    "for column in range (0, len(Profit_and_Losses)-1):\n",
    "    Change.append(int(Profit_and_Losses[column+1])-(int(Profit_and_Losses[column])))\n",
    "\n",
    "Average_Change = sum(Change) / len(Change)\n",
    "\n",
    "Max = max(Change)\n",
    "\n",
    "Min = min(Change)\n",
    "\n",
    "Increase_month = Date[Change.index(Max) + 1]\n",
    "\n",
    "Decrease_month = Date[Change.index(Min) + 1]\n",
    "\n",
    "print(\"Financial Analysis\")\n",
    "print(\"-------------------------\")\n",
    "print(f\"Total Months: {Total_Months}\")\n",
    "print(f\"Total profits = ${Total_Profits}\")\n",
    "print(f\"Average Change: (${Average_Change})\")\n",
    "print(f\"Greatest Increase in Profits: {Increase_month} (${Max})\")\n",
    "print(f\"Greatest Decrease in Profits: {Decrease_month} (${Min})\")\n",
    "\n",
    "output_path = os.path.join(\"Output.txt\")\n",
    "with open(output_path, 'w', newline='') as txtfile:\n",
    "    txtfile.write(f\"Total Months: {Total_Months}\")\n",
    "    txtfile.write(f\"Total: ${Total_Profits}\")\n",
    "    txtfile.write(f\"Average Change: ${Average_Change}\")\n",
    "    txtfile.write(f\"Greatest Increase in Profits: {Increase_month} (${Max})\")\n",
    "    txtfile.write(f\"Greatest Decrease in Profits: {Decrease_month} (${Min})\")\n",
    "    txtfile.close()"
   ]
  },
  {
   "cell_type": "code",
   "execution_count": null,
   "id": "8f191db7",
   "metadata": {},
   "outputs": [],
   "source": []
  },
  {
   "cell_type": "code",
   "execution_count": null,
   "id": "58eaa290",
   "metadata": {},
   "outputs": [],
   "source": []
  }
 ],
 "metadata": {
  "kernelspec": {
   "display_name": "Python 3 (ipykernel)",
   "language": "python",
   "name": "python3"
  },
  "language_info": {
   "codemirror_mode": {
    "name": "ipython",
    "version": 3
   },
   "file_extension": ".py",
   "mimetype": "text/x-python",
   "name": "python",
   "nbconvert_exporter": "python",
   "pygments_lexer": "ipython3",
   "version": "3.9.13"
  }
 },
 "nbformat": 4,
 "nbformat_minor": 5
}

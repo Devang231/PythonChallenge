{
 "cells": [
  {
   "cell_type": "code",
   "execution_count": 3,
   "id": "9abd2431",
   "metadata": {},
   "outputs": [
    {
     "name": "stdout",
     "output_type": "stream",
     "text": [
      "Election Results\n",
      "-------------------------\n",
      "Total Votes: 369,711\n",
      "-------------------------\n",
      "Charles Casper Stockham: 23.049% (85,213)\n",
      "Diana DeGette: 73.812% (272,892)\n",
      "Raymon Anthony Doane: 3.139% (11,606)\n",
      "-------------------------\n",
      "Winner:  Diana DeGette\n",
      "-------------------------\n"
     ]
    }
   ],
   "source": [
    "import os\n",
    "\n",
    "import csv\n",
    "\n",
    "csvpath = os.path.join(\"/Users/devangpatel/Desktop/PythonChallenge/PyPoll/Resources/election_data.csv\")\n",
    "\n",
    "with open(csvpath) as csvfile:\n",
    "    csvreader = csv.reader(csvfile, delimiter=',')\n",
    "    csv_header = next(csvreader)\n",
    "\n",
    "    Candidate = []\n",
    "    candidateList = []\n",
    "    totalVoters = 0\n",
    "    votes = {}\n",
    "  #  CandidateDict = {}\n",
    "\n",
    "    for row in csvreader:\n",
    "        Candidate = row[2]\n",
    "        if Candidate not in candidateList:\n",
    "            candidateList.append(Candidate)\n",
    "            votes[Candidate] = 0\n",
    "        votes[Candidate] += 1\n",
    "        totalVoters += 1\n",
    "\n",
    "\n",
    "# We will now print out the results.  In the midst of printing this out, we'll calculate the % of votes cast\n",
    "# for each candidate, and we will also declare a winner based on the highest number of votes.\n",
    "\n",
    "    print(\"Election Results\")\n",
    "    print(\"-------------------------\")\n",
    "    print(\"Total Votes: \" + str('{:,.0f}'.format(totalVoters)))\n",
    "    print(\"-------------------------\")\n",
    "    for i in votes:\n",
    "        PctVotes = '{:,.3f}'.format((votes[i]/totalVoters)*100)\n",
    "        print(i + \": \" + str(PctVotes) +\n",
    "              \"% (\" + str('{:,.0f}'.format(votes[i])) + \")\")\n",
    "    print(\"-------------------------\")\n",
    "    keyMax = max(votes, key=votes.get)\n",
    "    print(\"Winner:  \" + keyMax)\n",
    "    print(\"-------------------------\")"
   ]
  },
  {
   "cell_type": "code",
   "execution_count": null,
   "id": "fcaf1ea4",
   "metadata": {},
   "outputs": [],
   "source": []
  },
  {
   "cell_type": "code",
   "execution_count": null,
   "id": "6601b5f0",
   "metadata": {},
   "outputs": [],
   "source": []
  }
 ],
 "metadata": {
  "kernelspec": {
   "display_name": "Python 3 (ipykernel)",
   "language": "python",
   "name": "python3"
  },
  "language_info": {
   "codemirror_mode": {
    "name": "ipython",
    "version": 3
   },
   "file_extension": ".py",
   "mimetype": "text/x-python",
   "name": "python",
   "nbconvert_exporter": "python",
   "pygments_lexer": "ipython3",
   "version": "3.9.13"
  }
 },
 "nbformat": 4,
 "nbformat_minor": 5
}
